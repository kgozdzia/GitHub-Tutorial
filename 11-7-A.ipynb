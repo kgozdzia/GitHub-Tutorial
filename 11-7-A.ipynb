{
  "nbformat": 4,
  "nbformat_minor": 0,
  "metadata": {
    "colab": {
      "provenance": [],
      "authorship_tag": "ABX9TyOnw2N8e/M49YKAhEebaOg9",
      "include_colab_link": true
    },
    "kernelspec": {
      "name": "python3",
      "display_name": "Python 3"
    },
    "language_info": {
      "name": "python"
    }
  },
  "cells": [
    {
      "cell_type": "markdown",
      "metadata": {
        "id": "view-in-github",
        "colab_type": "text"
      },
      "source": [
        "<a href=\"https://colab.research.google.com/github/kgozdzia/GitHub-Tutorial/blob/main/11-7-A.ipynb\" target=\"_parent\"><img src=\"https://colab.research.google.com/assets/colab-badge.svg\" alt=\"Open In Colab\"/></a>"
      ]
    },
    {
      "cell_type": "code",
      "execution_count": 14,
      "metadata": {
        "id": "ZXmlDiX7zhXr",
        "colab": {
          "base_uri": "https://localhost:8080/"
        },
        "outputId": "ae31ab26-37b0-421e-f286-02709c5cf720"
      },
      "outputs": [
        {
          "output_type": "stream",
          "name": "stdout",
          "text": [
            "Please type V for a villain or H for a hero: H\n",
            "The character will be a hero.\n",
            "Please type your character's full name: Testboy\n",
            "\n",
            "Testboy\n"
          ]
        }
      ],
      "source": [
        "selectedCharacterType= input(\"Please type V for a villain or H for a hero: \")\n",
        "\n",
        "if selectedCharacterType == \"H\" or selectedCharacterType == \"h\":\n",
        "  print(\"The character will be a hero.\")\n",
        "elif selectedCharacterType == \"V\" or selectedCharacterType == \"v\":\n",
        "  print(\"The character will be a villain.\")\n",
        "else:\n",
        "  print(\"Please enter V for villain or H for hero.\")\n",
        "\n",
        "givenCharacterName = input(\"Please type your character's full name: \")\n",
        "\n",
        "print(f\"\\nName:{givenCharacterName}\")"
      ]
    }
  ]
}